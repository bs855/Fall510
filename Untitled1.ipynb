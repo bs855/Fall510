{
 "cells": [
  {
   "cell_type": "markdown",
   "metadata": {},
   "source": [
    "# Logic"
   ]
  },
  {
   "cell_type": "markdown",
   "metadata": {},
   "source": [
    "# if statement"
   ]
  },
  {
   "cell_type": "code",
   "execution_count": 4,
   "metadata": {
    "collapsed": false
   },
   "outputs": [
    {
     "name": "stdout",
     "output_type": "stream",
     "text": [
      "What now?\n",
      "Did this work?\n"
     ]
    }
   ],
   "source": [
    "y = 0\n",
    "if y == 1:\n",
    "    print(\"y still equals 1, I was just checking\")\n",
    "    \n",
    "if y < 1:\n",
    "    print (\"What now?\")\n",
    "    \n",
    "if y <= 1:\n",
    "    print (\"Did this work?\")"
   ]
  },
  {
   "cell_type": "markdown",
   "metadata": {},
   "source": [
    "# if then else"
   ]
  },
  {
   "cell_type": "code",
   "execution_count": 9,
   "metadata": {
    "collapsed": false
   },
   "outputs": [
    {
     "name": "stdout",
     "output_type": "stream",
     "text": [
      "This shouldn't happen.\n"
     ]
    }
   ],
   "source": [
    "a = 10\n",
    "if a > 5:\n",
    "    print(\"This shouldn't happen.\")\n",
    "else:\n",
    "    print(\"This should happen.\")"
   ]
  },
  {
   "cell_type": "markdown",
   "metadata": {},
   "source": [
    "# else if"
   ]
  },
  {
   "cell_type": "code",
   "execution_count": 15,
   "metadata": {
    "collapsed": false
   },
   "outputs": [
    {
     "name": "stdout",
     "output_type": "stream",
     "text": [
      "This is an odd number\n",
      "It isn't greater than five, either\n",
      "Big number!\n",
      "This is an odd number\n",
      "It isn't greater than five, either\n",
      "this number isn't greater than 5\n",
      "nor is it odd\n",
      "feeling special?\n"
     ]
    }
   ],
   "source": [
    "a = [1,10,3,4]\n",
    "for num in a:\n",
    "    if num > 5:\n",
    "        print(\"Big number!\")\n",
    "    elif num % 2 != 0:\n",
    "        print(\"This is an odd number\")\n",
    "        print(\"It isn't greater than five, either\")\n",
    "    else:\n",
    "        print(\"this number isn't greater than 5\")\n",
    "        print(\"nor is it odd\")\n",
    "        print(\"feeling special?\")"
   ]
  },
  {
   "cell_type": "markdown",
   "metadata": {},
   "source": [
    "# Loops"
   ]
  },
  {
   "cell_type": "code",
   "execution_count": 12,
   "metadata": {
    "collapsed": false
   },
   "outputs": [
    {
     "name": "stdout",
     "output_type": "stream",
     "text": [
      "0\n",
      "2\n",
      "2\n",
      "6\n",
      "6\n",
      "12\n",
      "12\n",
      "20\n",
      "The sum is: 20\n"
     ]
    }
   ],
   "source": [
    "list = [2, 4, 6, 8]\n",
    "sum = 0\n",
    "for num in list:\n",
    "     print(sum)\n",
    "     sum = sum + num\n",
    "     print(sum)\n",
    "print(\"The sum is:\", sum)\n"
   ]
  },
  {
   "cell_type": "markdown",
   "metadata": {},
   "source": [
    "# While Loops"
   ]
  },
  {
   "cell_type": "code",
   "execution_count": 21,
   "metadata": {
    "collapsed": false
   },
   "outputs": [
    {
     "name": "stdout",
     "output_type": "stream",
     "text": [
      "1\n",
      "2\n",
      "3\n",
      "4\n",
      "5\n",
      "6\n",
      "7\n",
      "8\n",
      "9\n",
      "10\n",
      "10\n",
      "wow, we've counted x down, and now it equals 9\n",
      "9\n",
      "wow, we've counted x down, and now it equals 8\n",
      "8\n",
      "wow, we've counted x down, and now it equals 7\n",
      "7\n",
      "wow, we've counted x down, and now it equals 6\n",
      "6\n",
      "wow, we've counted x down, and now it equals 5\n",
      "5\n",
      "wow, we've counted x down, and now it equals 4\n",
      "4\n",
      "wow, we've counted x down, and now it equals 3\n",
      "3\n",
      "wow, we've counted x down, and now it equals 2\n",
      "2\n",
      "wow, we've counted x down, and now it equals 1\n",
      "1\n",
      "wow, we've counted x down, and now it equals 0\n",
      "And now the loop has ended.\n"
     ]
    }
   ],
   "source": [
    "a = 0\n",
    "while a < 10:\n",
    "    a = a + 1\n",
    "    print(a)\n",
    "x = 10\n",
    "while x != 0:\n",
    "    print(x)\n",
    "    x = x - 1\n",
    "    print(\"wow, we've counted x down, and now it equals\", x)\n",
    "print(\"And now the loop has ended.\")"
   ]
  },
  {
   "cell_type": "code",
   "execution_count": null,
   "metadata": {
    "collapsed": true
   },
   "outputs": [],
   "source": [
    "Documentation"
   ]
  },
  {
   "cell_type": "code",
   "execution_count": null,
   "metadata": {
    "collapsed": true
   },
   "outputs": [],
   "source": [
    "#Calculates a total given parms\n",
    "def total(initial=5, *numbers, **keywords):\n",
    "    \"\"\"\n",
    "    This is a function document string or doc string.\n",
    "    This function totals stuff.\n",
    "    \n",
    "    Parameters:\n",
    "    initial = initial value defaults to 5\n",
    "    *numbers = any number of numbers separated by commas\n",
    "    **keywords = any number of name=number pairs e.g. fruit = 77\n",
    "    \n",
    "    gp-2015\n",
    "    \"\"\"\n",
    "    \n",
    "    count = initial\n",
    "    for number is numbers:\n",
    "        count += number #numbers stored in a tuple\n",
    "    for key is keywords:\n",
    "        count += keywords(key) #keywords stored in a dictionary\n",
    "    return count\n",
    "\n",
    "total_count = total (10,1,2,3,vegetables=50,fruits=10)\n",
    "\n",
    "    "
   ]
  }
 ],
 "metadata": {
  "kernelspec": {
   "display_name": "Python 3",
   "language": "python",
   "name": "python3"
  },
  "language_info": {
   "codemirror_mode": {
    "name": "ipython",
    "version": 3
   },
   "file_extension": ".py",
   "mimetype": "text/x-python",
   "name": "python",
   "nbconvert_exporter": "python",
   "pygments_lexer": "ipython3",
   "version": "3.4.3"
  }
 },
 "nbformat": 4,
 "nbformat_minor": 0
}
