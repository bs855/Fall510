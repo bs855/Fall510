{
 "cells": [
  {
   "cell_type": "markdown",
   "metadata": {},
   "source": [
    "# Introduction to iPython"
   ]
  },
  {
   "cell_type": "markdown",
   "metadata": {},
   "source": [
    "## Do some simple math. Add and multiply some numbers."
   ]
  },
  {
   "cell_type": "code",
   "execution_count": null,
   "metadata": {
    "collapsed": true
   },
   "outputs": [],
   "source": [
    "#print evaluates each expression and writes the resulting object to standard output\n",
    "#print(2+56+84+65498+21+22) adds the 6 numbers and writes the result 65683\n",
    "#print(2**8) evaluates 2 to the 8th power and writes the result 256\n",
    "#print((1+4)*(9-6)) evaluates the expresions in the inner parentheses first: (1+4) and (9-6) then evaluates the product of these results 5*3 and then writes the result 15"
   ]
  },
  {
   "cell_type": "code",
   "execution_count": null,
   "metadata": {
    "collapsed": false,
    "scrolled": true
   },
   "outputs": [],
   "source": [
    "print(2+56+84+65498+21+22) \n",
    "print(2**8)\n",
    "print((1+4)*(9-6))"
   ]
“AW: Output needed for this problem”
  },
  {
   "cell_type": "markdown",
   "metadata": {},
   "source": [
    "## Characters"
   ]
  },
  {
   "cell_type": "code",
   "execution_count": null,
   "metadata": {
    "collapsed": true
   },
   "outputs": [],
   "source": [
    "#s is a variable that is labeled the string called spam\n",
    "#each leter of the string spam can indexed with s = 0, p = 1, a = 2, m = 3\n",
    "#or spam can be indexed with s = -4, p = -3, a = -2, m = -1\n",
    "#print(s[0], s[-2]) evaluates the expression and writes the letters at the 0 and -2 index, which is s and a respectively\n",
    "#print(s[1:3], s[1:], s[:-1]) first evaluates s[1:3] which writes the letter at index 1 and every letter up to but including index 3\n",
    "#then it evaluates s[1:] which writes the letter at index 1 and every letter remaining in the string\n",
    "#then it evaluates s[:-1] which writes the first letter at index -4 and every letter up to but not including the index at -1"
   ]
  },
  {
   "cell_type": "code",
   "execution_count": null,
   "metadata": {
    "collapsed": false
   },
   "outputs": [],
   "source": [
    "s = 'spam'\n",
    "print(s[0], s[-2])\n",
    "print(s[1:3], s[1:], s[:-1])"
   ]
“AW: Output needed for this problem”
  },
  {
   "cell_type": "markdown",
   "metadata": {},
   "source": [
    "## Check current working directory"
   ]
  },
  {
   "cell_type": "code",
   "execution_count": null,
   "metadata": {
    "collapsed": false
   },
   "outputs": [],
   "source": [
    "import sys #Load the sys library\n",
    "import os #Load the os library\n",
    "import re #Load regular expression pattern matching library\n",
    "print(os.getcwd()) #evaluates the current working directory in the os library and writes the path of that directory\n",
    "print(sys.platform) #evaluates the core operating system and writes darwin, which is the core of Mac OS X"
   ]
“AW: Output needed for this problem”
  },
  {
   "cell_type": "markdown",
   "metadata": {},
   "source": [
    "## Help"
   ]
  },
  {
   "cell_type": "code",
   "execution_count": null,
   "metadata": {
    "collapsed": false
   },
   "outputs": [],
   "source": [
    "help(os) #returns an extensive manual page created from the os module's docstrings"
   ]
“AW: Was there an output to help(os)?”
  },
  {
   "cell_type": "code",
   "execution_count": null,
   "metadata": {
    "collapsed": true
   },
   "outputs": [],
   "source": [
    "#import urlib.request module defines functions and classes which help in opening URLs (mostly HTTP) in a complex world — basic and digest authentication, redirections, cookies and more\n",
    "#r is a variable that is assigned the urlopen function\n",
    "#myfile is a variable that is assigned the open function. the open function opens a file and returns a corresponding file object. the mode is wb, which means to open the file for writing and binary \n",
    "#the write() method writes any string to an open file and the read() method reads a string from an open file\n",
    "#the close() method is removing any unwritten information and closing the file object"
   ]
  },
  {
   "cell_type": "code",
   "execution_count": null,
   "metadata": {
    "collapsed": false
   },
   "outputs": [],
   "source": [
    "import urllib.request\n",
    "r = urllib.request.urlopen('https://github.com/Math510/Math510.github.io/raw/master/2015%20FALL%20510%20Course%20Schedule.pdf')\n",
    "myfile = open('/Users/bryansauka/GitHub/Fall510', 'wb')\n",
    "myfile.write(r.read())\n",
    "myfile.close() "
   ]
  },
  {
   "cell_type": "code",
   "execution_count": null,
   "metadata": {
    "collapsed": false
   },
   "outputs": [],
   "source": [
    "r = urllib.request.urlopen('https://github.com/Math510/Math510.github.io/raw/master/2015%20FALL%20510%20Syllabus.pdf')\n",
    "myfile = open('/Users/bryansauka/GitHub/Fall510', 'wb')\n",
    "myfile.write(r.read())\n",
    "myfile.close()"
   ]
  },
  {
   "cell_type": "markdown",
   "metadata": {},
   "source": [
    "## Modules"
   ]
  },
  {
   "cell_type": "markdown",
   "metadata": {},
   "source": [
    "### Create a variable"
   ]
  },
  {
   "cell_type": "code",
   "execution_count": null,
   "metadata": {
    "collapsed": true
   },
   "outputs": [],
   "source": [
    "title = 'Something Else' #creates a variable called title which defines the string 'Something Else'\n",
    "print(title) #evaluates the variable title and writes the string 'Something Else'"
   ]
“AW: Was there an output for this problem?”
  },
  {
   "cell_type": "markdown",
   "metadata": {},
   "source": [
    "### Import variables from a module"
   ]
  },
  {
   "cell_type": "code",
   "execution_count": null,
   "metadata": {
    "collapsed": true
   },
   "outputs": [],
   "source": [
    "#dir(Class_1_Module) attempts to return a list of valid attributes for the class 1 module object\n",
    "#print(Class_1_Module) evaluates the title from the class 1 module file and writes the title name\n",
    "#print(Class_1_Module) evaluates my age from the class 1 module file and writes my age\n",
    "#print(title) evaluates the title and writes the title from the variable created earlier"
   ]
  },
  {
   "cell_type": "code",
   "execution_count": null,
   "metadata": {
    "collapsed": false
   },
   "outputs": [],
   "source": [
    "import Class_1_Module #uses Class_1_Module name space\n",
    "dir(Class_1_Module)\n",
    "print(Class_1_Module.title)\n",
    "print(Class_1_Module.MyAge)\n",
    "\n",
    "print(title)"
   ]
“AW: Was there an output for this problem?”
  },
  {
   "cell_type": "markdown",
   "metadata": {},
   "source": [
    "## Show the difference in scope between importing a module and importing a specific variable from the module"
   ]
  },
  {
   "cell_type": "code",
   "execution_count": null,
   "metadata": {
    "collapsed": false
   },
   "outputs": [],
   "source": [
    "#copies into local name space, overwrites same named variable\n",
    "#without warning\n",
    "from Class_1_Module import title \n",
    "print(title)" “AW: was there an output for this problem?”
   ]
“AW: please show output of code for future assignments thanks”
  },
  {
   "cell_type": "markdown",
   "metadata": {},
   "source": [
    "## Functions"
   ]
  },
  {
   "cell_type": "code",
   "execution_count": null,
   "metadata": {
    "collapsed": false
   },
   "outputs": [],
   "source": []
  }
 ],
 "metadata": {
  "kernelspec": {
   "display_name": "Python 3",
   "language": "python",
   "name": "python3"
  },
  "language_info": {
   "codemirror_mode": {
    "name": "ipython",
    "version": 3
   },
   "file_extension": ".py",
   "mimetype": "text/x-python",
   "name": "python",
   "nbconvert_exporter": "python",
   "pygments_lexer": "ipython3",
   "version": "3.4.3"
  }
 },
 "nbformat": 4,
 "nbformat_minor": 0
}
