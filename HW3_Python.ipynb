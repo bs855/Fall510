{
 "cells": [
  {
   "cell_type": "code",
   "execution_count": 19,
   "metadata": {
    "collapsed": false
   },
   "outputs": [
    {
     "name": "stdout",
     "output_type": "stream",
     "text": [
      "****\n",
      "*********\n",
      "*******\n"
     ]
    }
   ],
   "source": [
    "#Exercise 1\n",
    "\n",
    "def histogram(hist):\n",
    "    for x in range(0,len(hist)): #iterates over the indices \n",
    "        print('*' * hist[x]); #prints the number of '*' based on the function call \n",
    "    return;\n",
    "\n",
    "histogram([4,9,7]);"
   ]
  },
  {
   "cell_type": "code",
   "execution_count": 31,
   "metadata": {
    "collapsed": false
   },
   "outputs": [
    {
     "name": "stdout",
     "output_type": "stream",
     "text": [
      "The list is: [0, 1, 2, 3, 4, 2000000, 5000, 1000000, 2000]\n",
      "The max in the list is: 2000000\n"
     ]
    }
   ],
   "source": [
    "#Exercise 2\n",
    "\n",
    "def max_in_list(inputList):\n",
    "    sortList = sorted(inputList) #sorts the list in ascending order\n",
    "    return sortList[-1]\n",
    "\n",
    "list = [0,1,2,3,4,2000000,5000,1000000,2000] #defines the list \n",
    " \n",
    "print(\"The list is: \"+str(list)) #returns a string version of the object List\n",
    "print(\"The max in the list is: \" +str(max_in_list(list))) #returns the max number from the list"
   ]
  },
  {
   "cell_type": "code",
   "execution_count": 22,
   "metadata": {
    "collapsed": false
   },
   "outputs": [
    {
     "name": "stdout",
     "output_type": "stream",
     "text": [
      "List of words:['One', 'Two', 'Three', 'Four', 'Five']\n",
      "List of word length:[3, 3, 5, 4, 4]\n"
     ]
    }
   ],
   "source": [
    "#Exercise 3\n",
    "\n",
    "wordList = ['One','Two','Three','Four','Five'] #defines the list of words\n",
    " \n",
    "intList = [] #defines a blank list for the word length \n",
    " \n",
    "for i in range(len(wordList)): #iterates over the indices\n",
    "    intList.append(len(wordList[i])) #adds items to the end of the list\n",
    "\n",
    "print (\"List of words:\"+str(wordList)) #returns the list of words\n",
    "print (\"List of word length:\"+str(intList)) #returns the length of each word in the list"
   ]
“AW: great comments here!”
  },
  {
   "cell_type": "code",
   "execution_count": 23,
   "metadata": {
    "collapsed": false
   },
   "outputs": [
    {
     "name": "stdout",
     "output_type": "stream",
     "text": [
      "The original list is: ['One', 'Two', 'Three', 'Four', 'Five']\n",
      "The largest word in the list is: Three\n"
     ]
    }
   ],
   "source": [
    "#Exercise 4\n",
    "\n",
    "def find_longest_word(inputListOfWords):\n",
    "    listOfWordCount = [] #creates a blank list for the word count \n",
    "    \n",
    "    for i in range(len(inputListOfWords)): #iterates through the words \n",
    "        listOfWordCount.append(len(inputListOfWords[i])) #adds to the end of the list\n",
    "        \n",
    "    sortedWordCountList = sorted(listOfWordCount) #sorts the words\n",
    " \n",
    "    indexOfLargestWord = listOfWordCount.index(sortedWordCountList[-1]) #returns the index in the list of the first item\n",
    " \n",
    "    return(inputListOfWords[indexOfLargestWord]) #returns the position of the largest word in the list\n",
    " \n",
    "inputListOfWords = ['One','Two','Three','Four','Five'] #defines the list of words\n",
    " \n",
    "print(\"The original list is: \" +str(inputListOfWords)) #returns the list of words \n",
    "print(\"The largest word in the list is: \"+str(find_longest_word(inputListOfWords))) #returns the largest word in the list"
   ]
“AW: great comments”
  },
  {
   "cell_type": "code",
   "execution_count": 34,
   "metadata": {
    "collapsed": false
   },
   "outputs": [
    {
     "name": "stdout",
     "output_type": "stream",
     "text": [
      "['Three']\n"
     ]
    }
   ],
   "source": [
    "#Exercise 5\n",
    "\n",
    "def filter_long_words(inputList,inputInteger):\n",
    "    listOfWords = [] #creates a blank list of words\n",
    " \n",
    "    for i in range(len(inputList)): #interates through the input list\n",
    "        if len(inputList[i]) > inputInteger: #if the index of the input list is larger than the input integer then add it to end of the list of words \n",
    "            listOfWords.append(inputList[i])\n",
    " \n",
    "    return listOfWords #return the list of words\n",
    " \n",
    "inputListOfWords = ['One','Two','Three','Four','Five'] #defines the input list of words\n",
    "inputWordLength = 4 #defines the word length that the returned list of words must be greater than\n",
    " \n",
    "print (str(filter_long_words(inputListOfWords,inputWordLength))) #display the word in the list that is greater than the defined word length\n"
   ]
  },
  {
   "cell_type": "code",
   "execution_count": 30,
   "metadata": {
    "collapsed": false
   },
   "outputs": [
    {
     "name": "stdout",
     "output_type": "stream",
     "text": [
      "Enter the string to check palindrome\n",
      "Was it a rat I saw?\n",
      "The string is a palindrome\n"
     ]
    }
   ],
   "source": [
    "#Exercise 6\n",
    "\n",
    "import re #import regular expressions\n",
    " \n",
    "def is_palindrome(inputString):\n",
    "    inputString = re.sub('[^a-zA-Z0-9]','',inputString) #remove special characters\n",
    "    \n",
    "    reversedString = inputString[::-1] #reverse the string\n",
    "\n",
    "    if inputString.lower() == reversedString.lower(): #compare the strings\n",
    "        return True\n",
    "    else:\n",
    "        return False\n",
    "\n",
    "print(\"Enter the string to check if it is a palindrome:\")\n",
    " \n",
    "stringToCheckPalindrome = input() #captures user input\n",
    "\n",
    "if is_palindrome(stringToCheckPalindrome) == True: #checks to see if the user entered string is a palindrome and returns if it is or is not \n",
    "    print(\"The string is a palindrome\")\n",
    "else:\n",
    "    print(\"The string is not a palindrome\")"
   ]
  },
  {
   "cell_type": "code",
   "execution_count": 35,
   "metadata": {
    "collapsed": false
   },
   "outputs": [
    {
     "name": "stdout",
     "output_type": "stream",
     "text": [
      "Sentence: \n",
      "The quick brown fox jumps over the lazy dog\n",
      "Input Sentence is a Pangram\n"
     ]
    }
   ],
   "source": [
    "#Exercise 7\n",
    "\n",
    "import re #import regular expressions\n",
    " \n",
    "def isPangram(inputSentence):\n",
    "    alphabetList = 'abcdefghijklmnopqrstuvwxyz' #defines the alphabet\n",
    "    alphabetCount = 0 #starts the count at 0\n",
    " \n",
    "    if len(inputSentence) < 26: \n",
    "        return False\n",
    "    else:\n",
    "        inputSentence = re.sub('[^a-zA-Z]','',inputSentence)\n",
    " \n",
    "        inputSentence = inputSentence.lower()\n",
    "         \n",
    "        for i in range(len(alphabetList)):\n",
    "            if alphabetList[i] in inputSentence:\n",
    "                alphabetCount = alphabetCount+1\n",
    " \n",
    "        if alphabetCount == 26:\n",
    "            return True\n",
    "        else:\n",
    "            return False\n",
    "                     \n",
    "print (\"Sentence: \")\n",
    " \n",
    "inputSentence = input()\n",
    " \n",
    "if (isPangram(inputSentence)):\n",
    "    print (\"Input Sentence is a Pangram\")\n",
    "else:\n",
    "    print (\"Input Sentence is not a Pangram\")"
   ]
  },
  {
   "cell_type": "code",
   "execution_count": 8,
   "metadata": {
    "collapsed": false
   },
   "outputs": [
    {
     "name": "stdout",
     "output_type": "stream",
     "text": [
      "99 bottles of beer on the wall, 99 bottles of beer.\n",
      "Take one down, pass it around, 98 bottles of beer on the wall.\n",
      " \n",
      "98 bottles of beer on the wall, 98 bottles of beer.\n",
      "Take one down, pass it around, 97 bottles of beer on the wall.\n",
      " \n",
      "97 bottles of beer on the wall, 97 bottles of beer.\n",
      "Take one down, pass it around, 96 bottles of beer on the wall.\n",
      " \n",
      "96 bottles of beer on the wall, 96 bottles of beer.\n",
      "Take one down, pass it around, 95 bottles of beer on the wall.\n",
      " \n",
      "95 bottles of beer on the wall, 95 bottles of beer.\n",
      "Take one down, pass it around, 94 bottles of beer on the wall.\n",
      " \n",
      "94 bottles of beer on the wall, 94 bottles of beer.\n",
      "Take one down, pass it around, 93 bottles of beer on the wall.\n",
      " \n",
      "93 bottles of beer on the wall, 93 bottles of beer.\n",
      "Take one down, pass it around, 92 bottles of beer on the wall.\n",
      " \n",
      "92 bottles of beer on the wall, 92 bottles of beer.\n",
      "Take one down, pass it around, 91 bottles of beer on the wall.\n",
      " \n",
      "91 bottles of beer on the wall, 91 bottles of beer.\n",
      "Take one down, pass it around, 90 bottles of beer on the wall.\n",
      " \n",
      "90 bottles of beer on the wall, 90 bottles of beer.\n",
      "Take one down, pass it around, 89 bottles of beer on the wall.\n",
      " \n",
      "89 bottles of beer on the wall, 89 bottles of beer.\n",
      "Take one down, pass it around, 88 bottles of beer on the wall.\n",
      " \n",
      "88 bottles of beer on the wall, 88 bottles of beer.\n",
      "Take one down, pass it around, 87 bottles of beer on the wall.\n",
      " \n",
      "87 bottles of beer on the wall, 87 bottles of beer.\n",
      "Take one down, pass it around, 86 bottles of beer on the wall.\n",
      " \n",
      "86 bottles of beer on the wall, 86 bottles of beer.\n",
      "Take one down, pass it around, 85 bottles of beer on the wall.\n",
      " \n",
      "85 bottles of beer on the wall, 85 bottles of beer.\n",
      "Take one down, pass it around, 84 bottles of beer on the wall.\n",
      " \n",
      "84 bottles of beer on the wall, 84 bottles of beer.\n",
      "Take one down, pass it around, 83 bottles of beer on the wall.\n",
      " \n",
      "83 bottles of beer on the wall, 83 bottles of beer.\n",
      "Take one down, pass it around, 82 bottles of beer on the wall.\n",
      " \n",
      "82 bottles of beer on the wall, 82 bottles of beer.\n",
      "Take one down, pass it around, 81 bottles of beer on the wall.\n",
      " \n",
      "81 bottles of beer on the wall, 81 bottles of beer.\n",
      "Take one down, pass it around, 80 bottles of beer on the wall.\n",
      " \n",
      "80 bottles of beer on the wall, 80 bottles of beer.\n",
      "Take one down, pass it around, 79 bottles of beer on the wall.\n",
      " \n",
      "79 bottles of beer on the wall, 79 bottles of beer.\n",
      "Take one down, pass it around, 78 bottles of beer on the wall.\n",
      " \n",
      "78 bottles of beer on the wall, 78 bottles of beer.\n",
      "Take one down, pass it around, 77 bottles of beer on the wall.\n",
      " \n",
      "77 bottles of beer on the wall, 77 bottles of beer.\n",
      "Take one down, pass it around, 76 bottles of beer on the wall.\n",
      " \n",
      "76 bottles of beer on the wall, 76 bottles of beer.\n",
      "Take one down, pass it around, 75 bottles of beer on the wall.\n",
      " \n",
      "75 bottles of beer on the wall, 75 bottles of beer.\n",
      "Take one down, pass it around, 74 bottles of beer on the wall.\n",
      " \n",
      "74 bottles of beer on the wall, 74 bottles of beer.\n",
      "Take one down, pass it around, 73 bottles of beer on the wall.\n",
      " \n",
      "73 bottles of beer on the wall, 73 bottles of beer.\n",
      "Take one down, pass it around, 72 bottles of beer on the wall.\n",
      " \n",
      "72 bottles of beer on the wall, 72 bottles of beer.\n",
      "Take one down, pass it around, 71 bottles of beer on the wall.\n",
      " \n",
      "71 bottles of beer on the wall, 71 bottles of beer.\n",
      "Take one down, pass it around, 70 bottles of beer on the wall.\n",
      " \n",
      "70 bottles of beer on the wall, 70 bottles of beer.\n",
      "Take one down, pass it around, 69 bottles of beer on the wall.\n",
      " \n",
      "69 bottles of beer on the wall, 69 bottles of beer.\n",
      "Take one down, pass it around, 68 bottles of beer on the wall.\n",
      " \n",
      "68 bottles of beer on the wall, 68 bottles of beer.\n",
      "Take one down, pass it around, 67 bottles of beer on the wall.\n",
      " \n",
      "67 bottles of beer on the wall, 67 bottles of beer.\n",
      "Take one down, pass it around, 66 bottles of beer on the wall.\n",
      " \n",
      "66 bottles of beer on the wall, 66 bottles of beer.\n",
      "Take one down, pass it around, 65 bottles of beer on the wall.\n",
      " \n",
      "65 bottles of beer on the wall, 65 bottles of beer.\n",
      "Take one down, pass it around, 64 bottles of beer on the wall.\n",
      " \n",
      "64 bottles of beer on the wall, 64 bottles of beer.\n",
      "Take one down, pass it around, 63 bottles of beer on the wall.\n",
      " \n",
      "63 bottles of beer on the wall, 63 bottles of beer.\n",
      "Take one down, pass it around, 62 bottles of beer on the wall.\n",
      " \n",
      "62 bottles of beer on the wall, 62 bottles of beer.\n",
      "Take one down, pass it around, 61 bottles of beer on the wall.\n",
      " \n",
      "61 bottles of beer on the wall, 61 bottles of beer.\n",
      "Take one down, pass it around, 60 bottles of beer on the wall.\n",
      " \n",
      "60 bottles of beer on the wall, 60 bottles of beer.\n",
      "Take one down, pass it around, 59 bottles of beer on the wall.\n",
      " \n",
      "59 bottles of beer on the wall, 59 bottles of beer.\n",
      "Take one down, pass it around, 58 bottles of beer on the wall.\n",
      " \n",
      "58 bottles of beer on the wall, 58 bottles of beer.\n",
      "Take one down, pass it around, 57 bottles of beer on the wall.\n",
      " \n",
      "57 bottles of beer on the wall, 57 bottles of beer.\n",
      "Take one down, pass it around, 56 bottles of beer on the wall.\n",
      " \n",
      "56 bottles of beer on the wall, 56 bottles of beer.\n",
      "Take one down, pass it around, 55 bottles of beer on the wall.\n",
      " \n",
      "55 bottles of beer on the wall, 55 bottles of beer.\n",
      "Take one down, pass it around, 54 bottles of beer on the wall.\n",
      " \n",
      "54 bottles of beer on the wall, 54 bottles of beer.\n",
      "Take one down, pass it around, 53 bottles of beer on the wall.\n",
      " \n",
      "53 bottles of beer on the wall, 53 bottles of beer.\n",
      "Take one down, pass it around, 52 bottles of beer on the wall.\n",
      " \n",
      "52 bottles of beer on the wall, 52 bottles of beer.\n",
      "Take one down, pass it around, 51 bottles of beer on the wall.\n",
      " \n",
      "51 bottles of beer on the wall, 51 bottles of beer.\n",
      "Take one down, pass it around, 50 bottles of beer on the wall.\n",
      " \n",
      "50 bottles of beer on the wall, 50 bottles of beer.\n",
      "Take one down, pass it around, 49 bottles of beer on the wall.\n",
      " \n",
      "49 bottles of beer on the wall, 49 bottles of beer.\n",
      "Take one down, pass it around, 48 bottles of beer on the wall.\n",
      " \n",
      "48 bottles of beer on the wall, 48 bottles of beer.\n",
      "Take one down, pass it around, 47 bottles of beer on the wall.\n",
      " \n",
      "47 bottles of beer on the wall, 47 bottles of beer.\n",
      "Take one down, pass it around, 46 bottles of beer on the wall.\n",
      " \n",
      "46 bottles of beer on the wall, 46 bottles of beer.\n",
      "Take one down, pass it around, 45 bottles of beer on the wall.\n",
      " \n",
      "45 bottles of beer on the wall, 45 bottles of beer.\n",
      "Take one down, pass it around, 44 bottles of beer on the wall.\n",
      " \n",
      "44 bottles of beer on the wall, 44 bottles of beer.\n",
      "Take one down, pass it around, 43 bottles of beer on the wall.\n",
      " \n",
      "43 bottles of beer on the wall, 43 bottles of beer.\n",
      "Take one down, pass it around, 42 bottles of beer on the wall.\n",
      " \n",
      "42 bottles of beer on the wall, 42 bottles of beer.\n",
      "Take one down, pass it around, 41 bottles of beer on the wall.\n",
      " \n",
      "41 bottles of beer on the wall, 41 bottles of beer.\n",
      "Take one down, pass it around, 40 bottles of beer on the wall.\n",
      " \n",
      "40 bottles of beer on the wall, 40 bottles of beer.\n",
      "Take one down, pass it around, 39 bottles of beer on the wall.\n",
      " \n",
      "39 bottles of beer on the wall, 39 bottles of beer.\n",
      "Take one down, pass it around, 38 bottles of beer on the wall.\n",
      " \n",
      "38 bottles of beer on the wall, 38 bottles of beer.\n",
      "Take one down, pass it around, 37 bottles of beer on the wall.\n",
      " \n",
      "37 bottles of beer on the wall, 37 bottles of beer.\n",
      "Take one down, pass it around, 36 bottles of beer on the wall.\n",
      " \n",
      "36 bottles of beer on the wall, 36 bottles of beer.\n",
      "Take one down, pass it around, 35 bottles of beer on the wall.\n",
      " \n",
      "35 bottles of beer on the wall, 35 bottles of beer.\n",
      "Take one down, pass it around, 34 bottles of beer on the wall.\n",
      " \n",
      "34 bottles of beer on the wall, 34 bottles of beer.\n",
      "Take one down, pass it around, 33 bottles of beer on the wall.\n",
      " \n",
      "33 bottles of beer on the wall, 33 bottles of beer.\n",
      "Take one down, pass it around, 32 bottles of beer on the wall.\n",
      " \n",
      "32 bottles of beer on the wall, 32 bottles of beer.\n",
      "Take one down, pass it around, 31 bottles of beer on the wall.\n",
      " \n",
      "31 bottles of beer on the wall, 31 bottles of beer.\n",
      "Take one down, pass it around, 30 bottles of beer on the wall.\n",
      " \n",
      "30 bottles of beer on the wall, 30 bottles of beer.\n",
      "Take one down, pass it around, 29 bottles of beer on the wall.\n",
      " \n",
      "29 bottles of beer on the wall, 29 bottles of beer.\n",
      "Take one down, pass it around, 28 bottles of beer on the wall.\n",
      " \n",
      "28 bottles of beer on the wall, 28 bottles of beer.\n",
      "Take one down, pass it around, 27 bottles of beer on the wall.\n",
      " \n",
      "27 bottles of beer on the wall, 27 bottles of beer.\n",
      "Take one down, pass it around, 26 bottles of beer on the wall.\n",
      " \n",
      "26 bottles of beer on the wall, 26 bottles of beer.\n",
      "Take one down, pass it around, 25 bottles of beer on the wall.\n",
      " \n",
      "25 bottles of beer on the wall, 25 bottles of beer.\n",
      "Take one down, pass it around, 24 bottles of beer on the wall.\n",
      " \n",
      "24 bottles of beer on the wall, 24 bottles of beer.\n",
      "Take one down, pass it around, 23 bottles of beer on the wall.\n",
      " \n",
      "23 bottles of beer on the wall, 23 bottles of beer.\n",
      "Take one down, pass it around, 22 bottles of beer on the wall.\n",
      " \n",
      "22 bottles of beer on the wall, 22 bottles of beer.\n",
      "Take one down, pass it around, 21 bottles of beer on the wall.\n",
      " \n",
      "21 bottles of beer on the wall, 21 bottles of beer.\n",
      "Take one down, pass it around, 20 bottles of beer on the wall.\n",
      " \n",
      "20 bottles of beer on the wall, 20 bottles of beer.\n",
      "Take one down, pass it around, 19 bottles of beer on the wall.\n",
      " \n",
      "19 bottles of beer on the wall, 19 bottles of beer.\n",
      "Take one down, pass it around, 18 bottles of beer on the wall.\n",
      " \n",
      "18 bottles of beer on the wall, 18 bottles of beer.\n",
      "Take one down, pass it around, 17 bottles of beer on the wall.\n",
      " \n",
      "17 bottles of beer on the wall, 17 bottles of beer.\n",
      "Take one down, pass it around, 16 bottles of beer on the wall.\n",
      " \n",
      "16 bottles of beer on the wall, 16 bottles of beer.\n",
      "Take one down, pass it around, 15 bottles of beer on the wall.\n",
      " \n",
      "15 bottles of beer on the wall, 15 bottles of beer.\n",
      "Take one down, pass it around, 14 bottles of beer on the wall.\n",
      " \n",
      "14 bottles of beer on the wall, 14 bottles of beer.\n",
      "Take one down, pass it around, 13 bottles of beer on the wall.\n",
      " \n",
      "13 bottles of beer on the wall, 13 bottles of beer.\n",
      "Take one down, pass it around, 12 bottles of beer on the wall.\n",
      " \n",
      "12 bottles of beer on the wall, 12 bottles of beer.\n",
      "Take one down, pass it around, 11 bottles of beer on the wall.\n",
      " \n",
      "11 bottles of beer on the wall, 11 bottles of beer.\n",
      "Take one down, pass it around, 10 bottles of beer on the wall.\n",
      " \n",
      "10 bottles of beer on the wall, 10 bottles of beer.\n",
      "Take one down, pass it around, 9 bottles of beer on the wall.\n",
      " \n",
      "9 bottles of beer on the wall, 9 bottles of beer.\n",
      "Take one down, pass it around, 8 bottles of beer on the wall.\n",
      " \n",
      "8 bottles of beer on the wall, 8 bottles of beer.\n",
      "Take one down, pass it around, 7 bottles of beer on the wall.\n",
      " \n",
      "7 bottles of beer on the wall, 7 bottles of beer.\n",
      "Take one down, pass it around, 6 bottles of beer on the wall.\n",
      " \n",
      "6 bottles of beer on the wall, 6 bottles of beer.\n",
      "Take one down, pass it around, 5 bottles of beer on the wall.\n",
      " \n",
      "5 bottles of beer on the wall, 5 bottles of beer.\n",
      "Take one down, pass it around, 4 bottles of beer on the wall.\n",
      " \n",
      "4 bottles of beer on the wall, 4 bottles of beer.\n",
      "Take one down, pass it around, 3 bottles of beer on the wall.\n",
      " \n",
      "3 bottles of beer on the wall, 3 bottles of beer.\n",
      "Take one down, pass it around, 2 bottles of beer on the wall.\n",
      " \n",
      "2 bottles of beer on the wall, 2 bottles of beer.\n",
      "Take one down, pass it around, 1 bottles of beer on the wall.\n",
      " \n",
      "1 bottles of beer on the wall, 1 bottles of beer.\n",
      "Take one down, pass it around, 0 bottles of beer on the wall.\n",
      " \n"
     ]
    }
   ],
   "source": [
    "#Exercise 8\n",
    "\n",
    "def singBottlesOfBeer():\n",
    " \n",
    "    for i in range(99,0,-1): #iterates through the verse of the song starting with 99 bottles...\n",
    "        print(str(i)+\" bottles of beer on the wall, \"+str(i) +\" bottles of beer.\")\n",
    "        print(\"Take one down, pass it around, \"+str(i-1) +\" bottles of beer on the wall.\")\n",
    "        print (\" \")\n",
    "         \n",
    "singBottlesOfBeer()"
   ]
“AW: how would you code for signBottlesOfBeer(14) ?”
  },
  {
   "cell_type": "code",
   "execution_count": 9,
   "metadata": {
    "collapsed": false
   },
   "outputs": [
    {
     "name": "stdout",
     "output_type": "stream",
     "text": [
      "god jul och gott nytt år \n"
     ]
    }
   ],
   "source": [
    "#Exercise 9\n",
    "\n",
    "import re\n",
    " \n",
    "#Create a dictionary\n",
    "dictionary = {\"merry\":\"god\",\n",
    "              \"christmas\":\"jul\",\n",
    "              \"and\":\"och\",\n",
    "              \"happy\":\"gott\",\n",
    "              \"new\":\"nytt\",\n",
    "              \"year\":\"år\"}\n",
    " \n",
    "def translate(inputString): #creates the translate function\n",
    "    translatedString = \"\"\n",
    "   \n",
    "    for i in inputString.split(\" \"):\n",
    "        if (str(dictionary.get(i))) != \"None\":\n",
    "            translatedString = translatedString+str(dictionary.get(i))+\" \"\n",
    "        else:\n",
    "            translatedString = \"\"\n",
    "            return translatedString\n",
    "             \n",
    "    return translatedString\n",
    "             \n",
    "inputString = \"merry christmas and happy new year\"\n",
    " \n",
    "if (translate(inputString)) == \"\":\n",
    "    print(\"The sentence can not be translated\")\n",
    "else:\n",
    "    print(str(translate(inputString)))"
   ]
  },
  {
   "cell_type": "code",
   "execution_count": 36,
   "metadata": {
    "collapsed": false
   },
   "outputs": [
    {
     "name": "stdout",
     "output_type": "stream",
     "text": [
      "aaaaaaabbbbbccdddeeeee\n",
      "{'d': 3, 'e': 5, 'a': 7, 'b': 5, 'c': 2}\n"
     ]
    }
   ],
   "source": [
    "# Exercise 10\n",
    "\n",
    "def char_freq(inputString):\n",
    " \n",
    "    dictionary = {}\n",
    "    keyWord = \"\"\n",
    " \n",
    "    print(inputString)\n",
    "     \n",
    "    for i in range(len(inputString)):\n",
    " \n",
    "        if inputString[i] in dictionary:\n",
    "            dictionary[inputString[i]]= int(dictionary.get(inputString[i]))+1\n",
    "        else:\n",
    "            dictionary[inputString[i]]= 1\n",
    " \n",
    "    return dictionary\n",
    "         \n",
    "print(str(char_freq(\"aaaaaaabbbbbccdddeeeee\")))"
   ]
  },
  {
   "cell_type": "code",
   "execution_count": 11,
   "metadata": {
    "collapsed": false
   },
   "outputs": [
    {
     "name": "stdout",
     "output_type": "stream",
     "text": [
      "Pnrfne pvcure? V zhpu cersre Pnrfne fnynq!\n",
      "Caesar cipher? I much prefer Caesar salad! \n",
      "\n",
      "\n",
      "Caesar cipher? I much prefer Caesar salad!\n",
      "Pnrfne pvcure? V zhpu cersre Pnrfne fnynq! \n"
     ]
    }
   ],
   "source": [
    "#Exercise 11\n",
    "\n",
    "import re\n",
    " \n",
    "key = {'a':'n', 'b':'o', 'c':'p', 'd':'q', 'e':'r', 'f':'s', 'g':'t', 'h':'u', \n",
    "       'i':'v', 'j':'w', 'k':'x', 'l':'y', 'm':'z', 'n':'a', 'o':'b', 'p':'c', \n",
    "       'q':'d', 'r':'e', 's':'f', 't':'g', 'u':'h', 'v':'i', 'w':'j', 'x':'k',\n",
    "       'y':'l', 'z':'m', 'A':'N', 'B':'O', 'C':'P', 'D':'Q', 'E':'R', 'F':'S', \n",
    "       'G':'T', 'H':'U', 'I':'V', 'J':'W', 'K':'X', 'L':'Y', 'M':'Z', 'N':'A', \n",
    "       'O':'B', 'P':'C', 'Q':'D', 'R':'E', 'S':'F', 'T':'G', 'U':'H', 'V':'I', \n",
    "       'W':'J', 'X':'K', 'Y':'L', 'Z':'M'}\n",
    " \n",
    "def decoder_encoder(inputString):\n",
    " \n",
    "    newString = \"\"\n",
    " \n",
    "    print(inputString)\n",
    " \n",
    "    for word in (re.findall('[a-zA-Z0-9?!]+', inputString)):\n",
    "        for j in range(len(word)):\n",
    "            if word[j] in key:\n",
    "                newString = newString+key[word[j]]\n",
    "            else:\n",
    "                newString = newString+word[j]\n",
    "        newString = newString+\" \"\n",
    "    print(newString)\n",
    "             \n",
    "decoder_encoder(\"Pnrfne pvcure? V zhpu cersre Pnrfne fnynq!\")\n",
    " \n",
    "print(\"\\n\")\n",
    " \n",
    "decoder_encoder(\"Caesar cipher? I much prefer Caesar salad!\")\n",
    "        "
   ]
  },
  {
   "cell_type": "code",
   "execution_count": 13,
   "metadata": {
    "collapsed": false
   },
   "outputs": [
    {
     "name": "stdout",
     "output_type": "stream",
     "text": [
      "This is very funny and cool. Indeed!\n"
     ]
    }
   ],
   "source": [
    "#Exercise 12\n",
    "\n",
    "import re\n",
    " \n",
    "def correct(inputString):\n",
    " \n",
    "    #Removing extra spaces\n",
    "    correctedString = re.sub('\\ +',' ',inputString)\n",
    " \n",
    "    #Putting extra space after period\n",
    "    correctedString = re.sub('\\.','. ',correctedString)\n",
    " \n",
    "    print(correctedString)\n",
    " \n",
    " \n",
    "inputString = \"This   is  very funny  and    cool.Indeed!\"\n",
    " \n",
    "correct(inputString)"
   ]
  },
  {
   "cell_type": "code",
   "execution_count": 14,
   "metadata": {
    "collapsed": false
   },
   "outputs": [
    {
     "name": "stdout",
     "output_type": "stream",
     "text": [
      "Understands\n"
     ]
    }
   ],
   "source": [
    "#Exercise 13\n",
    "\n",
    "def make_3sg_form(inputVerb):\n",
    " \n",
    "    if inputVerb.endswith('y'):\n",
    "        thirdPersonSingularForm=inputVerb+'ies'\n",
    "    elif inputVerb.endswith(('o','ch','s','sh','x','z')):\n",
    "        thirdPersonSingularForm=inputVerb+'es'\n",
    "    else:\n",
    "        thirdPersonSingularForm=inputVerb+'s'\n",
    " \n",
    "    print(thirdPersonSingularForm)\n",
    "\n",
    "make_3sg_form('Understand')"
   ]
  },
  {
   "cell_type": "code",
   "execution_count": 15,
   "metadata": {
    "collapsed": false
   },
   "outputs": [
    {
     "name": "stdout",
     "output_type": "stream",
     "text": [
      "lying\n",
      "seing\n",
      "moving\n",
      "hugging\n"
     ]
    }
   ],
   "source": [
    "#Exercise 14\n",
    "\n",
    "def make_ing_form(inputWord):\n",
    "     \n",
    "    if inputWord.endswith('ie'):\n",
    "        inputWord = inputWord.rstrip('ie')\n",
    "        pp_of_inputWord = inputWord+'y'+'ing'\n",
    "         \n",
    "    elif inputWord.endswith('e'):\n",
    "        inputWord = inputWord[:-1]\n",
    "        pp_of_inputWord = inputWord+'ing'\n",
    " \n",
    "    elif inputWord[-2] in 'aiou':\n",
    "        pp_of_inputWord = inputWord + inputWord[-1] + 'ing'\n",
    " \n",
    "    print(str(pp_of_inputWord))\n",
    "\n",
    "make_ing_form('lie')\n",
    "make_ing_form('see')\n",
    "make_ing_form('move')\n",
    "make_ing_form('hug')"
   ]
“AW: every function should have doc header comments using triple quotes so the function is supported by the help() function. Please provide detailed comments in future assignments.”
  },
  {
   "cell_type": "code",
   "execution_count": null,
   "metadata": {
    "collapsed": true
   },
   "outputs": [],
   "source": []
  }
 ],
 "metadata": {
  "kernelspec": {
   "display_name": "Python 3",
   "language": "python",
   "name": "python3"
  },
  "language_info": {
   "codemirror_mode": {
    "name": "ipython",
    "version": 3
   },
   "file_extension": ".py",
   "mimetype": "text/x-python",
   "name": "python",
   "nbconvert_exporter": "python",
   "pygments_lexer": "ipython3",
   "version": "3.4.3"
  }
 },
 "nbformat": 4,
 "nbformat_minor": 0
}
