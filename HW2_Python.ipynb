{
 "cells": [
  {
   "cell_type": "code",
   "execution_count": 116,
   "metadata": {
    "collapsed": false
   },
   "outputs": [
    {
     "data": {
      "text/plain": [
       "2"
      ]
     },
     "execution_count": 116,
     "metadata": {},
     "output_type": "execute_result"
    }
   ],
   "source": [
    "def fib(n): #defines the function to return fibonacci numbers \n",
    "    if n == 0:\n",
    "        return 0 #returns the 1st number in the fibonacci sequence\n",
    "    elif n == 1:\n",
    "        return 1 #returns the 2nd number in the fibonacci sequence\n",
    "    else:\n",
    "        return fib(n-1) + fib(n-2) #fibonacci formula for any number after the 1st 2 numbers in the sequence\n",
    "\n",
“AW: we want to print all the Fib numbers less than ’n’ to the screen”
    "fib(3) #test case...for this example, return the 3rd number of the fibonacci sequence "
   ]
  },
  {
   "cell_type": "code",
   "execution_count": 11,
   "metadata": {
    "collapsed": false
   },
   "outputs": [
    {
     "name": "stdout",
     "output_type": "stream",
     "text": [
      "enter your 1st number:\n",
      "1\n",
      "enter your 2nd number:\n",
      "2\n",
      "2 is larger\n"
     ]
    }
   ],
   "source": [
    "def mymax(a, b):\n",
    "    \"\"\" function to find out the maximum of two numbers \"\"\"\n",
    "    if a > b:\n",
    "        return a\n",
    "    else:\n",
    "        return b\n",
    "print(\"enter your 1st number:\") #prompts the user to enter the 1st number \n",
    "num1 = int(input()) #interprets and inputs the users number as an integer\n",
    " \n",
    "print(\"enter your 2nd number:\") #prompts the user to enter the 2nd number\n",
    "num2 = int(input()) #interprets and inputs the users number as an integer\n",
    " \n",
    "print(str(mymax(num1,num2)) + \" is larger\") #prints the larger of the 2 numbers entered by the user"
   ]
  },
  {
   "cell_type": "code",
   "execution_count": 13,
   "metadata": {
    "collapsed": false
   },
   "outputs": [
    {
     "name": "stdout",
     "output_type": "stream",
     "text": [
      "enter your 1st number:\n",
      "1\n",
      "enter your 2nd number:\n",
      "2\n",
      "enter your 3rd number:\n",
      "3\n",
      "3 is largest\n"
     ]
    }
   ],
   "source": [
    "def max_of_three(a,b,c):\n",
    "    \"\"\" function to find out the maximum of 3 numbers \"\"\"\n",
    "    if a > b:\n",
    "        if a > c:\n",
    "            return a #returns a since a is > than b and c\n",
    "        else:\n",
    "            return c #returns c since a > b but a is not > c \n",
    "    else:\n",
    "        if b > c: \n",
    "            return b #returns b since b > c and a is not > b\n",
    "        else:\n",
    "            return c #returns c since other conditions failed\n",
    "print(\"enter your 1st number:\") #prompts the user to enter the 1st number\n",
    "num1 = int(input()) #interprets and inputs the users number as an integer\n",
    " \n",
    "print(\"enter your 2nd number:\") #prompts the user to enter the 2nd number\n",
    "num2 = int(input()) #interprets and inputs the users number as an integer\n",
    "     \n",
    "print(\"enter your 3rd number:\") #prompts the user to enter the 3rd number\n",
    "num3 = int(input()) #interprets and inputs the users number as an integer\n",
    " \n",
    "print(str(max_of_three(num1,num2,num3)) +\" is largest\") #prints the larger of the 3 numbers entered by the user"
   ]
  },
  {
   "cell_type": "code",
   "execution_count": 74,
   "metadata": {
    "collapsed": false
   },
   "outputs": [
    {
     "name": "stdout",
     "output_type": "stream",
     "text": [
      "enter the string\n",
      "the\n",
      "length of the string is 3\n"
     ]
    }
   ],
   "source": [
    "def mylen(inputString):\n",
    "    \"\"\"function to calculate the string length\"\"\"\n",
    "    count = 0 #sets string length to 0\n",
    "    for i in inputString: #loop through the string  \n",
    "        count = count+1 #adding 1 for each character in the string\n",
    "    print(\"length of the string is \" +str(count)) #prints the length of the string count\n",
    "print(\"enter the string:\") #prompts the user to enter the string count\n",
    "inputString = input() #captures the user input\n",
    "mylen(inputString) #puts the user input into the function to count string length"
   ]
  },
  {
   "cell_type": "code",
   "execution_count": 61,
   "metadata": {
    "collapsed": false
   },
   "outputs": [
    {
     "name": "stdout",
     "output_type": "stream",
     "text": [
      "Enter the character to check\n",
      "e\n",
      "True\n"
     ]
    }
   ],
   "source": [
    "def vowelChecker(inputChar):\n",
    "    \"\"\"function to check whether a character is vowel\"\"\"\n",
    "    if (inputChar == \"a\" or inputChar == \"A\" or\n",
    "        inputChar == \"e\" or inputChar == \"E\" or\n",
    "        inputChar == \"i\" or inputChar == \"I\" or\n",
    "        inputChar == \"o\" or inputChar == \"O\" or\n",
    "        inputChar == \"u\" or inputChar == \"U\"):\n",
    "        return \"True\"\n",
    "    else:\n",
    "        return \"False\"\n",
    "\n",
    "print (\"enter the character to check:\") #prompts the user to enter a character to check if it is a vowel\n",
    "inputChar = input() #captures the user input\n",
    " \n",
    "if vowelChecker(inputChar) == \"True\": #puts the user input into the vowelChecker function \n",
    "    print(\"True\") #returns True is the user entered character is a vowel\n",
    "else:\n",
    "    print(\"False\") #returns False if the user entered character is not a vowel"
   ]
  },
  {
   "cell_type": "code",
   "execution_count": 117,
   "metadata": {
    "collapsed": false
   },
   "outputs": [
    {
     "name": "stdout",
     "output_type": "stream",
     "text": [
      "Enter the string to translate\n",
      "this is fun\n",
      "The translated string is: tothohisos isos fofunon\n"
     ]
    }
   ],
   "source": [
    "def vowelChecker(inputChar):\n",
    "    \"\"\"function to check whether a char is vowel or not...same code and comments as above example\"\"\"\n",
    "    if (inputChar == \"a\" or inputChar == \"A\" or\n",
    "        inputChar == \"e\" or inputChar == \"E\" or\n",
    "        inputChar == \"i\" or inputChar == \"I\" or\n",
    "        inputChar == \"o\" or inputChar == \"O\" or\n",
    "        inputChar == \"u\" or inputChar == \"U\"):\n",
    "        return \"True\"\n",
    "    else:\n",
    "        return \"False\"\n",
    "\n",
    "def translate(stringToTranslate):\n",
    "    \"\"\"function to translate the string\"\"\"\n",
    "    translatedString = \"\" #sets the string to blank\n",
    "    for i in stringToTranslate: #loops through string to check for vowels and consonants\n",
    "        if (vowelChecker(i) == \"True\" or str(i) == \" \"): #checks if vowels are in the string in order not to double...since we are only doubling the consonants\n",
    "            translatedString = translatedString+str(i) #returns the vowel \n",
    "        elif vowelChecker(i) == \"False\": \n",
    "            translatedString = translatedString+str(i)+\"o\"+str(i) #places an \"o\" between the consonants\n",
    "    return translatedString\n",
    "\n",
    "print (\"enter the string to translate:\") #prompts the user to enter a string to translate\n",
    "stringToTranslate = input(); #captures the user input\n",
    "print (\"the translated string is: \" +str(translate(stringToTranslate))) #returns the translated string"
   ]
  },
  {
   "cell_type": "code",
   "execution_count": 76,
   "metadata": {
    "collapsed": false
   },
   "outputs": [
    {
     "name": "stdout",
     "output_type": "stream",
     "text": [
      "The initial list is: [1, 2, 3, 4]\n",
      "Sum of the members of the list is: 10\n",
      "Multiplied value of the members of the list is: 24\n"
     ]
    }
   ],
   "source": [
    "def addListMembers(List):\n",
    "    \"\"\"function to sum the numbers in the list\"\"\"\n",
    "    totalSum = 0\n",
    "    for i in List:\n",
    "        totalSum = int(totalSum) + int(List[i-1])\n",
    "    return totalSum\n",
    " \n",
    "def multiplyListMembers(List):\n",
    "    \"\"\"function to multiply the numbers in the list\"\"\"\n",
    "    totalMultipliedAmount = 1\n",
    "    for i in List:\n",
    "        totalMultipliedAmount = totalMultipliedAmount * int(List[i-1])\n",
    "    return totalMultipliedAmount\n",
    " \n",
    "List1 = [1,2,3,4]\n",
    " \n",
    "print (\"the initial list is: \" +str(List1[:]))\n",
    " \n",
    "print(\"the sum of the list members is: \" +str(addListMembers(List1)))\n",
    " \n",
    "print(\"the product of the list members is: \" +str(multiplyListMembers(List1)))\n"
   ]
“AW: please provide comments”
  },
  {
   "cell_type": "code",
   "execution_count": 118,
   "metadata": {
    "collapsed": false
   },
   "outputs": [
    {
     "name": "stdout",
     "output_type": "stream",
     "text": [
      "enter the string to reverse:\n",
      "the\n",
      "eht\n"
     ]
    }
   ],
   "source": [
    "def reverse(inputString):\n",
    "    \"\"\"function to reverse a string\"\"\"\n",
    "    stringLength = int(len(inputString))\n",
    "    reversedString = \"\"\n",
    "    for i in range(0,stringLength):\n",
    "        reversedString = reversedString+inputString[-i-1]\n",
    "    print (str(reversedString))\n",
    " \n",
    "print(\"enter the string to reverse:\")\n",
    " \n",
    "stringToReverse = input() \n",
    " \n",
    "reverse(stringToReverse)"
   ]
“AW: please provide comments”
  },
  {
   "cell_type": "code",
   "execution_count": 122,
   "metadata": {
    "collapsed": false
   },
   "outputs": [
    {
     "name": "stdout",
     "output_type": "stream",
     "text": [
      "enter the string to check if it is a palindrome:\n",
      "radar\n",
      "True\n"
     ]
    }
   ],
   "source": [
    "def is_palindrome(inputString):\n",
    "    \"\"\"function to reverse the string\"\"\"\n",
    "    reversedString = inputString[::-1] \n",
    " \n",
    " #compares the strings\n",
    "    if inputString.lower() == reversedString.lower():\n",
    "        return True\n",
    "    else:\n",
    "        return False\n",
    "\n",
    "print (\"enter the string to check if it is a palindrome:\")\n",
    " \n",
    "stringToCheckPalindrome = input()\n",
    "if is_palindrome(stringToCheckPalindrome) == True:\n",
    "    print(\"True\")\n",
    "else:\n",
    "    print(\"False\")"
   ]
“AW: please provide additional comments”
  },
  {
   "cell_type": "code",
   "execution_count": 101,
   "metadata": {
    "collapsed": false
   },
   "outputs": [
    {
     "name": "stdout",
     "output_type": "stream",
     "text": [
      "Enter the item to check in the printed list\n",
      "a\n",
      "True\n"
     ]
    }
   ],
   "source": [
    "def is_member(valueToCheck, listToBeChecked):\n",
    "    \"\"\"function to check if an item is the list\"\"\"\n",
    "    for i in range(len(listToBeChecked)): #loops through items in the list\n",
    "        if valueToCheck == listToBeChecked[i]: \n",
    "            return True\n",
    "        else:\n",
    "            return False\n",
    "\n",
    "List = ['a'] #defines the list that the user input will be checked against\n",
    " \n",
    "print(\"enter the item to check in the printed list:\")\n",
    " \n",
    "itemToCheck = input()\n",
    " \n",
    "if is_member(itemToCheck,List) == True:\n",
    "    print (\"True\")\n",
    "else:\n",
    "    print (\"False\")\n",
    " "
   ]
  },
  {
   "cell_type": "code",
   "execution_count": 123,
   "metadata": {
    "collapsed": false
   },
   "outputs": [
    {
     "name": "stdout",
     "output_type": "stream",
     "text": [
      "['a', 'b', 'c']\n",
      "['c', 'd', 'e']\n",
      "True\n"
     ]
    }
   ],
   "source": [
    "def overlapping(inputList1, inputList2):\n",
    "    \"\"\"function to check if 2 lists share a common member\"\"\"\n",
    "    print (inputList1) #displays list 1 for user to see\n",
    "    print (inputList2) #displays list 2 for user to see\n",
    "    for i in range(len(inputList1)): #loops through elements of list 1\n",
    "        for j in range(len(inputList2)): #loops through elements of list 2\n",
    "            if inputList1[i] == inputList2[j]: #compares elements of both lists\n",
    "                return True #returns true if overlap exists between elements of the 2 lists\n",
    "\n",
    "List1 = ['a','b','c'] #list 1\n",
    "List2 = ['c','d','e'] #list 2\n",
    " \n",
    "if overlapping(List1,List2) == True:\n",
    "    print(\"True\")\n",
    "else:\n",
    "    print(\"False\")"
   ]
  },
  {
   "cell_type": "code",
   "execution_count": 124,
   "metadata": {
    "collapsed": false
   },
   "outputs": [
    {
     "name": "stdout",
     "output_type": "stream",
     "text": [
      "enter a character or string:\n",
      "the\n",
      "enter the number of times 'the' you want it to be printed\n",
      "5\n",
      "the generated string is: thethethethethe\n"
     ]
    }
   ],
   "source": [
    "def generate_n_chars(inpuntNumber, inputChar):\n",
    "    \"\"\"function to generate_n_chars() that takes an integer n and a character c and returns a string, \n",
    "    n characters long, consisting only of c:s\"\"\"\n",
    "    outputString=\"\"\n",
    "    for i in range(inputNumber):\n",
    "        outputString = outputString+inputChar\n",
    "    return outputString\n",
    " \n",
    "print (\"enter a character or string:\")\n",
    " \n",
    "inputChar = input()\n",
    " \n",
    "print (\"enter the number of times \\'\" +str(inputChar) +\"\\' you want it to be printed\")\n",
    " \n",
    "inputNumber = int(input())\n",
    " \n",
    "print(\"the generated string is: \" +str(generate_n_chars(inputNumber,inputChar)))"
   ]
“AW: please provide detailed comments for future assignments. Thanks”
  },
  {
   "cell_type": "code",
   "execution_count": null,
   "metadata": {
    "collapsed": true
   },
   "outputs": [],
   "source": []
  }
 ],
 "metadata": {
  "kernelspec": {
   "display_name": "Python 3",
   "language": "python",
   "name": "python3"
  },
  "language_info": {
   "codemirror_mode": {
    "name": "ipython",
    "version": 3
   },
   "file_extension": ".py",
   "mimetype": "text/x-python",
   "name": "python",
   "nbconvert_exporter": "python",
   "pygments_lexer": "ipython3",
   "version": "3.4.3"
  }
 },
 "nbformat": 4,
 "nbformat_minor": 0
}
